{
 "cells": [
  {
   "cell_type": "code",
   "id": "initial_id",
   "metadata": {
    "collapsed": true,
    "ExecuteTime": {
     "end_time": "2025-02-10T11:04:21.996476Z",
     "start_time": "2025-02-10T11:04:21.991446Z"
    }
   },
   "source": [
    "import pandas as pd\n",
    "import numpy as pn\n",
    "import librosa\n",
    "import matplotlib.pyplot as plt\n",
    "import librosa.display\n",
    "import ipywidgets\n",
    "from src import *\n",
    "from scipy import signal\n",
    "import soundfile as sf\n",
    "from scipy.ndimage import gaussian_filter\n",
    "import librosa.feature\n",
    "import os"
   ],
   "outputs": [],
   "execution_count": 84
  },
  {
   "metadata": {
    "ExecuteTime": {
     "end_time": "2025-02-10T11:04:22.028606Z",
     "start_time": "2025-02-10T11:04:22.014082Z"
    }
   },
   "cell_type": "code",
   "source": [
    "#TODO: Move all this shit to a proper package, this is atrocious\n",
    "\n",
    "def compare_before_after(before, after, sr, title1 = 'Before', title2 = 'After'):\n",
    "    fig, ax = plt.subplots(2,1, figsize = (14,10))\n",
    "\n",
    "    ax[0].set_title(title1)\n",
    "    img1 = librosa.display.specshow(before, sr=sr, ax=ax[0], x_axis='time', y_axis='hz')\n",
    "    plt.colorbar(img1, ax=ax[0], format='%+2.0f dB')\n",
    "\n",
    "    ax[1].set_title(title2)\n",
    "    img2 = librosa.display.specshow(after, sr=sr, ax=ax[1], x_axis='time', y_axis='hz')\n",
    "    plt.colorbar(img2, ax=ax[1], format='%+2.0f dB')\n",
    "    plt.style.use('default')\n",
    "\n",
    "    plt.tight_layout()\n",
    "    plt.show()\n",
    "\n",
    "def spectral_substraction(noise_sample, y, sr, factor = 1, smoothing = None, return_audio = False):\n",
    "    y_spectrum = librosa.stft(y)\n",
    "    y_spectrum_db = librosa.amplitude_to_db(np.abs(y_spectrum))\n",
    "    phase = np.angle(y_spectrum)\n",
    "    noise_start = int(noise_sample[0]*sr)\n",
    "    noise_end = int(noise_sample[1]*sr)\n",
    "    noise_sample = y[noise_start:noise_end]\n",
    "    noise_spectrum = librosa.stft(noise_sample)\n",
    "    noise_power = np.mean(np.abs(noise_spectrum)**2, axis=1)\n",
    "\n",
    "    if smoothing:\n",
    "        noise_power = gaussian_filter(noise_power, sigma=smoothing)\n",
    "    noise_power = noise_power.reshape((-1,1))\n",
    "\n",
    "    spectrum_power = np.abs(y_spectrum)**2\n",
    "    spectrum_power_cleaned = spectrum_power - factor * noise_power\n",
    "    spectrum_power_cleaned = np.maximum(spectrum_power_cleaned, 0)\n",
    "    spectrum_cleaned_db = librosa.power_to_db(spectrum_power_cleaned)\n",
    "\n",
    "    if return_audio:\n",
    "        magnitude = librosa.db_to_amplitude(spectrum_cleaned_db)\n",
    "        complex_spectrum = magnitude * np.exp(1j * phase)\n",
    "        return librosa.istft(complex_spectrum)\n",
    "\n",
    "    return spectrum_cleaned_db\n",
    "\n",
    "def apply_bandpass(y, sr, lowcut, highcut, order, return_audio = False):\n",
    "    nyq = 0.5 * sr\n",
    "    low = lowcut / nyq\n",
    "    high = highcut / nyq\n",
    "    b, a = signal.butter(order, [low, high], btype='band', output = 'ba')\n",
    "    y_filtered = signal.filtfilt(b, a, y)\n",
    "\n",
    "    if return_audio:\n",
    "        return y_filtered\n",
    "\n",
    "    y_filtered_spectrum = librosa.stft(y_filtered)\n",
    "    y_filtered_spectrum_db = librosa.amplitude_to_db(y_filtered_spectrum)\n",
    "    return y_filtered_spectrum_db\n",
    "\n",
    "def apply_threshold(y, sr, cutoff, return_audio = False):\n",
    "    y_spectrum = librosa.stft(y)\n",
    "    y_spectrum_db = librosa.amplitude_to_db(np.abs(y_spectrum))\n",
    "    y_spectrum_db[y_spectrum_db < cutoff] = -80\n",
    "\n",
    "    phase = np.angle(y_spectrum)\n",
    "    if return_audio:\n",
    "        magnitude = librosa.db_to_amplitude(y_spectrum_db)\n",
    "        complex_spectrum = magnitude * np.exp(1j * phase)\n",
    "        # return librosa.istft(complex_spectrum)\n",
    "\n",
    "    return y_spectrum_db\n",
    "\n",
    "def examine_features(y, sr):\n",
    "    # Extract features\n",
    "    mfccs = librosa.feature.mfcc(y=y, sr=sr, n_mfcc=8, n_fft=512, hop_length=512, fmin= 4000, fmax = 8000)\n",
    "    centroid = librosa.feature.spectral_centroid(y=y, sr=sr)[0]\n",
    "    bandwidth = librosa.feature.spectral_bandwidth(y=y, sr=sr)[0]\n",
    "    rolloff = librosa.feature.spectral_rolloff(y=y, sr=sr)[0]\n",
    "    zcr = librosa.feature.zero_crossing_rate(y)[0]\n",
    "    rms = librosa.feature.rms(y=y)[0]\n",
    "\n",
    "    # Create subplots\n",
    "    plt.figure(figsize=(15, 10))\n",
    "\n",
    "    # Plot each feature\n",
    "    plt.subplot(3, 2, 1)\n",
    "    plt.plot(centroid)\n",
    "    plt.title('Spectral Centroid')\n",
    "\n",
    "    plt.subplot(3, 2, 2)\n",
    "    plt.plot(bandwidth)\n",
    "    plt.title('Spectral Bandwidth')\n",
    "\n",
    "    plt.subplot(3, 2, 3)\n",
    "    plt.plot(rolloff)\n",
    "    plt.title('Spectral Rolloff')\n",
    "\n",
    "    plt.subplot(3, 2, 4)\n",
    "    plt.plot(zcr)\n",
    "    plt.title('Zero Crossing Rate')\n",
    "\n",
    "    plt.subplot(3, 2, 5)\n",
    "    plt.plot(rms)\n",
    "    plt.title('RMS Energy')\n",
    "\n",
    "    plt.tight_layout()\n",
    "    plt.show()\n",
    "\n",
    "def create_combined_features(y, sr):\n",
    "    # Extract features\n",
    "    mfccs = librosa.feature.mfcc(y=y, sr=sr, n_mfcc=8, n_fft=512, hop_length=512, fmin= 4000, fmax = 8000)\n",
    "    centroid = librosa.feature.spectral_centroid(y=y, sr=sr)[0]\n",
    "    bandwidth = librosa.feature.spectral_bandwidth(y=y, sr=sr)[0]\n",
    "    rolloff = librosa.feature.spectral_rolloff(y=y, sr=sr)[0]\n",
    "    zcr = librosa.feature.zero_crossing_rate(y)[0]\n",
    "    rms = librosa.feature.rms(y=y)[0]\n",
    "\n",
    "    feature_dict = {\n",
    "        'mfcc_means': np.mean(mfccs, axis=1),  # 13 values\n",
    "        'mfcc_stds': np.std(mfccs, axis=1),    # 13 values\n",
    "        'centroid_mean': np.mean(centroid),     # 1 value\n",
    "        'centroid_std': np.std(centroid),       # 1 value\n",
    "        'rolloff_mean': np.mean(rolloff),\n",
    "        'rolloff_std': np.std(rolloff),\n",
    "        'rms_mean': np.mean(rms),\n",
    "        'rms_std': np.std(rms)\n",
    "    }\n",
    "\n",
    "    return feature_dict\n",
    "\n",
    "def isolate_calls(origin,save = False, save_folder = ''):\n",
    "    y, sr = librosa.load(origin)\n",
    "    calls = []\n",
    "    y = np.abs(y)\n",
    "    gen_mean = np.mean(y)\n",
    "    gen_std = np.std(y)\n",
    "    threshold = gen_mean + 4 * gen_std\n",
    "    potential_calls = np.where(y > threshold)[0]\n",
    "    call_end = 0\n",
    "    isolated_calls = []\n",
    "    for call in potential_calls:\n",
    "        if call < call_end:\n",
    "            continue\n",
    "        jump = 0.5\n",
    "        ahead_mean = np.mean(y[call + int(jump*sr):call + int((jump+0.2)*sr)])\n",
    "        while ahead_mean > gen_mean:\n",
    "            jump += 0.2\n",
    "            ahead_mean = np.mean(y[call + int(jump*sr):call + int((jump+0.2)*sr)])\n",
    "        call_end = call + int(jump*sr)\n",
    "        calls.append([call, call_end])\n",
    "\n",
    "    isolated_calls = [y[call[0]:call[1]] for call in calls]\n",
    "    if save:\n",
    "        for call, counter in enumerate(isolated_calls,1):\n",
    "            file_name = save_folder + origin + f'_split_{counter}.wav'\n",
    "            sf.write(file = file_name,data = call, samplerate = sr)\n",
    "\n",
    "\n",
    "    return isolated_calls\n"
   ],
   "id": "d0af9ef6d62f5dc8",
   "outputs": [],
   "execution_count": 85
  },
  {
   "metadata": {
    "ExecuteTime": {
     "end_time": "2025-02-10T11:04:22.138559Z",
     "start_time": "2025-02-10T11:04:22.038432Z"
    }
   },
   "cell_type": "code",
   "source": [
    "y, sr = librosa.load(\"../data/raw/789465_Turdus_merula_2023-03-30_Germany.mp3\")\n",
    "len(y) / sr"
   ],
   "id": "4fb9345895603f70",
   "outputs": [
    {
     "data": {
      "text/plain": [
       "45.336009070294786"
      ]
     },
     "execution_count": 86,
     "metadata": {},
     "output_type": "execute_result"
    }
   ],
   "execution_count": 86
  },
  {
   "metadata": {
    "ExecuteTime": {
     "end_time": "2025-02-10T11:04:22.467764Z",
     "start_time": "2025-02-10T11:04:22.151084Z"
    }
   },
   "cell_type": "code",
   "source": [
    "y = spectral_substraction((0,0.5), y, sr, return_audio=True)\n",
    "\n",
    "y_spectrum = librosa.stft(y, n_fft = 2048, hop_length = 1024)"
   ],
   "id": "ee7fba22c048c275",
   "outputs": [],
   "execution_count": 87
  },
  {
   "metadata": {
    "ExecuteTime": {
     "end_time": "2025-02-10T11:04:22.482754Z",
     "start_time": "2025-02-10T11:04:22.478421Z"
    }
   },
   "cell_type": "code",
   "source": [
    "def find_top_frequencies(spectrum, sr, n):\n",
    "    indices = np.argpartition(spectrum, -n)[-n:]\n",
    "    indices = np.sort(indices)[::-1]\n",
    "    frequencies = librosa.fft_frequencies()\n",
    "    return frequencies[indices]"
   ],
   "id": "2dee0478bcfe3782",
   "outputs": [],
   "execution_count": 88
  },
  {
   "metadata": {
    "ExecuteTime": {
     "end_time": "2025-02-10T11:04:22.498358Z",
     "start_time": "2025-02-10T11:04:22.493595Z"
    }
   },
   "cell_type": "code",
   "source": [
    "def dominant_frequencies_window(y_spectrum, n, window_size, n_fft = 2048, sr = 22050):\n",
    "    window_jump = int(window_size // (n_fft / sr))\n",
    "    dominant_frequencies = []\n",
    "    window_start = 0\n",
    "\n",
    "    while window_start + window_size <= len(y_spectrum):\n",
    "        window_end = window_start + window_jump\n",
    "        mean_frequencies = np.mean(y_spectrum[window_start:window_end], axis = 0)\n",
    "        freq = find_top_frequencies(mean_frequencies, sr, n)\n",
    "        dominant_frequencies.append(freq)\n",
    "        window_start = window_end\n",
    "\n",
    "    dominant_frequencies = np.array(dominant_frequencies).transpose()\n",
    "\n",
    "    return  dominant_frequencies"
   ],
   "id": "a5510bb93b28a092",
   "outputs": [],
   "execution_count": 89
  },
  {
   "metadata": {
    "ExecuteTime": {
     "end_time": "2025-02-10T11:04:22.549333Z",
     "start_time": "2025-02-10T11:04:22.509444Z"
    }
   },
   "cell_type": "code",
   "source": "dom_freq = dominant_frequencies_window(y_spectrum, n=5, window_size=0.25)",
   "id": "9524cca6dc2bcba2",
   "outputs": [],
   "execution_count": 90
  }
 ],
 "metadata": {
  "kernelspec": {
   "display_name": "Python 3",
   "language": "python",
   "name": "python3"
  },
  "language_info": {
   "codemirror_mode": {
    "name": "ipython",
    "version": 2
   },
   "file_extension": ".py",
   "mimetype": "text/x-python",
   "name": "python",
   "nbconvert_exporter": "python",
   "pygments_lexer": "ipython2",
   "version": "2.7.6"
  }
 },
 "nbformat": 4,
 "nbformat_minor": 5
}
